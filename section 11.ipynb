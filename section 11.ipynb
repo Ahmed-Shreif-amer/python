{
 "cells": [
  {
   "cell_type": "markdown",
   "metadata": {},
   "source": [
    "### single responsibility principle ( SRP )\n",
    "==> class have one task"
   ]
  },
  {
   "cell_type": "code",
   "execution_count": 1,
   "metadata": {},
   "outputs": [
    {
     "data": {
      "text/plain": [
       "'ahmed'"
      ]
     },
     "execution_count": 1,
     "metadata": {},
     "output_type": "execute_result"
    }
   ],
   "source": []
  },
  {
   "cell_type": "markdown",
   "metadata": {},
   "source": [
    "### open closed principle ( OCP )\n",
    "==> open : for extention ( can add any mehod without conflict and don't edit any funcution  ) <br>\n",
    "==> close : for  modify ( edit the code that coding before)\n"
   ]
  },
  {
   "cell_type": "code",
   "execution_count": null,
   "metadata": {},
   "outputs": [],
   "source": [
    "# use abstract method , ABC \n"
   ]
  },
  {
   "cell_type": "markdown",
   "metadata": {},
   "source": [
    "## liskov Substition princilple ( LSP )\n",
    "==> use the polymarphism <br>\n",
    "==> force child to use the functios that in parent by use interface"
   ]
  },
  {
   "cell_type": "markdown",
   "metadata": {},
   "source": [
    "## interface segration princciple (ISP)\n",
    "use multiple inhertance to use it  ==> to avoid force child to use all iterface"
   ]
  },
  {
   "cell_type": "markdown",
   "metadata": {},
   "source": [
    "## dependancy instraction"
   ]
  },
  {
   "cell_type": "markdown",
   "metadata": {},
   "source": [
    "use inherance but the child must depend on parent by using interface"
   ]
  }
 ],
 "metadata": {
  "kernelspec": {
   "display_name": "base",
   "language": "python",
   "name": "python3"
  },
  "language_info": {
   "codemirror_mode": {
    "name": "ipython",
    "version": 3
   },
   "file_extension": ".py",
   "mimetype": "text/x-python",
   "name": "python",
   "nbconvert_exporter": "python",
   "pygments_lexer": "ipython3",
   "version": "3.11.5"
  }
 },
 "nbformat": 4,
 "nbformat_minor": 2
}
