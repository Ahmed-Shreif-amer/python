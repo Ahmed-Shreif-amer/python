{
 "cells": [
  {
   "cell_type": "code",
   "execution_count": null,
   "metadata": {},
   "outputs": [],
   "source": [
    "class customer :\n",
    "    def SetName(self,name):\n",
    "        self.name = name\n",
    "    def PrintData (self):\n",
    "        print (f\"your name : {self.name}\")\n",
    "        \n",
    "ahmed = customer()\n",
    "ahmed.SetName(\"ahmed\")\n",
    "ahmed.PrintData()\n",
    "\n",
    "ahmed.anothername = \"mohamed\" # append new paramater in class\n",
    "print(isinstance (ahmed,customer)) ## check if object in class true if not error"
   ]
  },
  {
   "cell_type": "markdown",
   "metadata": {},
   "source": [
    "### modifier ( 1 : public , 2 : protected , 3 : private )\n",
    "* private __before attruibute name\n",
    "* protected _before attruibute name\n",
    "\n",
    "protected \n",
    "* can get in main class\n",
    "* can get again in extends class if class inhertance main class\n",
    "* in global scope we can get by setter and getter methods\n",
    "\n",
    "private \n",
    "* can get in main class\n"
   ]
  },
  {
   "cell_type": "code",
   "execution_count": null,
   "metadata": {},
   "outputs": [],
   "source": [
    "class person ():\n",
    "    attr1 = \"public\" # public attruibute\n",
    "    _attr2 = \"protected\" # protected attruibute\n",
    "    __attr3 = \"private\" # private attruibute\n",
    "\n",
    "    def __init__ (self):\n",
    "        print (self.attr1)\n",
    "        print (self._attr2) # this access protected attruibute\n",
    "        print (self.__attr3) # this access private attruibute (\" main class only \")\n",
    "    def display_name (self):\n",
    "        print (self.__attr3)  # this access private attruibute (\" main class only \")\n",
    "\n",
    "class ahmed (person):\n",
    "    def display (self):\n",
    "        print (self._attr2)  # this access protected attruibute\n",
    "\n",
    "a = ahmed ()\n",
    "a.display() # this access protected attruibute\n",
    "a.display_name() # this access private attruibute"
   ]
  }
 ],
 "metadata": {
  "language_info": {
   "name": "python"
  }
 },
 "nbformat": 4,
 "nbformat_minor": 2
}
