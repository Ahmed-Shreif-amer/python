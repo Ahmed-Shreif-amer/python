{
 "cells": [
  {
   "cell_type": "code",
   "execution_count": 1,
   "metadata": {},
   "outputs": [],
   "source": [
    "a = [ 1 ,3  , 6 ,8 ,9 ,1 ,5]\n",
    "list2 = [5,15,20]"
   ]
  },
  {
   "cell_type": "markdown",
   "metadata": {},
   "source": [
    "#### Type Of copy \n",
    "* shallow copy \n",
    "* deep copy \n"
   ]
  },
  {
   "cell_type": "code",
   "execution_count": null,
   "metadata": {},
   "outputs": [],
   "source": [
    "# shallow copy ==> use the same refrance of original \n",
    "b = a  # any edit on b will make change in a bec"
   ]
  },
  {
   "cell_type": "code",
   "execution_count": null,
   "metadata": {},
   "outputs": [],
   "source": [
    "# deep copy ==> use the diffreance refrance of original \n",
    "C = list (a) # this is a first way of deep copy\n",
    "C = a [:] # this is a second way of deep copy"
   ]
  },
  {
   "cell_type": "markdown",
   "metadata": {},
   "source": [
    "### tuple ==> has the same options of list but not changeable "
   ]
  },
  {
   "cell_type": "markdown",
   "metadata": {},
   "source": [
    "### packging , unpackging"
   ]
  },
  {
   "cell_type": "code",
   "execution_count": 2,
   "metadata": {},
   "outputs": [],
   "source": [
    "t =  1 , 2 , 3  # packging\n",
    "x , y , z = t # unpackging"
   ]
  },
  {
   "cell_type": "markdown",
   "metadata": {},
   "source": [
    "### dictiony ==> has the same options of list but not changeable "
   ]
  },
  {
   "cell_type": "code",
   "execution_count": 4,
   "metadata": {},
   "outputs": [
    {
     "name": "stdout",
     "output_type": "stream",
     "text": [
      "{'name': 'ahmed', 'age': 19, 'gpa': 5}\n"
     ]
    }
   ],
   "source": [
    "a = {\"name\" : \"ahmed\" , \"age\" : 19}\n",
    "a[\"gpa\"] = 5 ## append\n",
    "\n",
    "# a.key() ==> return all keys \n",
    "# a.values() ==> return all values \n",
    "# a.items() ==> return all values , keys \n",
    "\n",
    "for i , j in a.items() :\n",
    "    print (i , \"==>\" , j ) "
   ]
  },
  {
   "cell_type": "code",
   "execution_count": null,
   "metadata": {},
   "outputs": [],
   "source": [
    "# split is oppiste to join  ==> .split()\n",
    "# join() ==> put all words in the same word "
   ]
  }
 ],
 "metadata": {
  "kernelspec": {
   "display_name": "base",
   "language": "python",
   "name": "python3"
  },
  "language_info": {
   "codemirror_mode": {
    "name": "ipython",
    "version": 3
   },
   "file_extension": ".py",
   "mimetype": "text/x-python",
   "name": "python",
   "nbconvert_exporter": "python",
   "pygments_lexer": "ipython3",
   "version": "3.11.5"
  }
 },
 "nbformat": 4,
 "nbformat_minor": 2
}
