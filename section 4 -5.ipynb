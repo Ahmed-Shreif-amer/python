{
 "cells": [
  {
   "cell_type": "markdown",
   "metadata": {},
   "source": [
    "### inhertance"
   ]
  },
  {
   "cell_type": "code",
   "execution_count": null,
   "metadata": {},
   "outputs": [],
   "source": [
    "class person ():\n",
    "    def __init__ (self,name,id): \n",
    "        self.name=name\n",
    "        self.id=id\n",
    "    def display (self):\n",
    "        print(f\"my name is {self.name} \\nmy id is {self.id}\")"
   ]
  },
  {
   "cell_type": "code",
   "execution_count": null,
   "metadata": {},
   "outputs": [],
   "source": [
    "class employee (person):\n",
    "    def __init__ (self,name,id,age,sallery):\n",
    "        self.age=age\n",
    "        self.sallery=sallery\n",
    "        person.__init__(self,name,id) # we use parent mehtod in overlodded method\n",
    "ahmed = employee (\"ahmed\" , 20220012 , 19 , 2000)\n",
    "ahmed.display()"
   ]
  },
  {
   "cell_type": "markdown",
   "metadata": {},
   "source": [
    "### Magic Funcution\n",
    "* __del__ this is destarctor and it begin when call del ObjName ##del ahmed\n",
    "* __str__ when print ObjName we chage dfult value ( adress in ram , ClassName ) ## print(ahmed) ### defult is ==> <__main__.person object at 0x000001B49DC8AD10>\n",
    "* __add__ when use Obj in sum opperation we control on it when add it\n"
   ]
  },
  {
   "cell_type": "code",
   "execution_count": null,
   "metadata": {},
   "outputs": [],
   "source": [
    "class Magic1 ():\n",
    "    def __init__ (self,name,age): # constractor \n",
    "        self.name=name\n",
    "        self.age=age\n",
    "    def __add__ (self , other): \n",
    "        return person(\"Name\" , self.age + other)"
   ]
  },
  {
   "cell_type": "code",
   "execution_count": null,
   "metadata": {},
   "outputs": [],
   "source": [
    "class Magic2 ():\n",
    "    def __init__ (self,name,age): # constractor \n",
    "        self.name=name\n",
    "        self.age=age\n",
    "    def __str__(self): # replace defult value when print ObjName\n",
    "        return (f\"my name is {self.name} , My age is : {self.age}\")"
   ]
  }
 ],
 "metadata": {
  "language_info": {
   "name": "python"
  }
 },
 "nbformat": 4,
 "nbformat_minor": 2
}
